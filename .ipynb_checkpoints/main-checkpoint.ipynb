{
 "cells": [
  {
   "cell_type": "code",
   "execution_count": 51,
   "metadata": {},
   "outputs": [],
   "source": [
    "urls = ['https://www.bankbazaar.com/icici-home-loan.html',\n",
    "'https://www.bankbazaar.com/sbi-home-loan.html',\n",
    "'https://www.bankbazaar.com/lic-home-loan.html',\n",
    "'https://www.bankbazaar.com/dhfl-home-loan.html',\n",
    "'https://www.bankbazaar.com/axis-home-loan.html',\n",
    "'https://www.bankbazaar.com/bank-of-baroda-home-loan.html',\n",
    "'https://www.bankbazaar.com/citibank-home-loan.html',\n",
    "'https://www.bankbazaar.com/idbi-home-loan.html',\n",
    "'https://www.bankbazaar.com/indiabulls-home-loan.html',\n",
    "'https://www.bankbazaar.com/pnb-housing-finance-home-loan.html']"
   ]
  },
  {
   "cell_type": "code",
   "execution_count": 54,
   "metadata": {},
   "outputs": [],
   "source": [
    "heading_list = [\"h1\", \"h2\", \"h3\"]\n",
    "\n",
    "start = '''<div class=\"pad-10 bg-green\">\n",
    "<p class=\"text-center\">PAGE CONTENT</p>\n",
    "<hr>\n",
    "<ul>'''\n",
    "\n",
    "last = '''</ul>\n",
    "</div>'''"
   ]
  },
  {
   "cell_type": "code",
   "execution_count": 55,
   "metadata": {},
   "outputs": [],
   "source": [
    "import pandas as pd\n",
    "import requests\n",
    "from bs4 import BeautifulSoup as bs\n",
    "from IPython.display import clear_output"
   ]
  },
  {
   "cell_type": "code",
   "execution_count": 56,
   "metadata": {},
   "outputs": [
    {
     "name": "stdout",
     "output_type": "stream",
     "text": [
      "\n",
      "File created\n"
     ]
    }
   ],
   "source": [
    "total_urls = len(urls) \n",
    "\n",
    "for i, url in enumerate(urls):\n",
    "    clear_output(wait=True)\n",
    "    print(f\"Working on row number {i+1} / {total_urls} which is: {url}\")\n",
    "    filename = url.split('/')[-1]\n",
    "    web_page_response = requests.get(url)\n",
    "    if web_page_response.status_code ==200:\n",
    "        f = open(filename,\"w+\")\n",
    "        soup = bs(web_page_response.text, 'lxml')\n",
    "        heading_text = soup.find_all(heading_list)\n",
    "        f.write(start + '\\n')\n",
    "        for heading in heading_text:\n",
    "            heading_text = heading.text.strip()\n",
    "            f.write('<li><a href=\"#\">' + str(heading_text) +'</a></li>' +  '\\n')\n",
    "        f.write(last)\n",
    "    else:\n",
    "        f.write(\"Bad url\")\n",
    "    \n",
    "    \n",
    "f.close() \n",
    "\n",
    "print(f\"\\nAll File Created\")"
   ]
  }
 ],
 "metadata": {
  "kernelspec": {
   "display_name": "Python 3",
   "language": "python",
   "name": "python3"
  },
  "language_info": {
   "codemirror_mode": {
    "name": "ipython",
    "version": 3
   },
   "file_extension": ".py",
   "mimetype": "text/x-python",
   "name": "python",
   "nbconvert_exporter": "python",
   "pygments_lexer": "ipython3",
   "version": "3.7.4"
  }
 },
 "nbformat": 4,
 "nbformat_minor": 2
}
